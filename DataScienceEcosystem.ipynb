{
 "cells": [
  {
   "cell_type": "markdown",
   "id": "495fdea4-0ece-4c97-8a34-2c8771c32eb9",
   "metadata": {},
   "source": [
    "## Author\n",
    "Shiksha Pandey"
   ]
  },
  {
   "cell_type": "markdown",
   "id": "f88c6552-29aa-4a3c-8bb9-73dbdfeb4f59",
   "metadata": {},
   "source": [
    "# Data Science Tools and Ecosystem"
   ]
  },
  {
   "cell_type": "markdown",
   "id": "c2d9dff7-e259-4f0d-9445-4b8f449a46ac",
   "metadata": {},
   "source": [
    "In this notebook, Data Science Tools and Ecosystem are summarized."
   ]
  },
  {
   "cell_type": "markdown",
   "id": "daf8142a-f603-423e-837b-d4cf8fc55503",
   "metadata": {},
   "source": [
    "**Objectives:**\n",
    "* List popular languages used in Data Science\n",
    "* List commonly used libraries in Data Science\n",
    "* Create a table of Data Science tools\n",
    "* Run simple arithmetic operations"
   ]
  },
  {
   "cell_type": "markdown",
   "id": "bf7fa61d-efaf-46c7-b680-a38bd4b3107f",
   "metadata": {},
   "source": [
    "Some of the popular languages that Data Scientists use are:\n",
    "1. Python\n",
    "2. R\n",
    "3. SQL"
   ]
  },
  {
   "cell_type": "markdown",
   "id": "b0efc990-6190-4a71-9f35-bd7dc06c87ea",
   "metadata": {},
   "source": [
    "Some of the commonly used libraries used by Data Scientists include:\n",
    "1. Pandas\n",
    "2. scikit-learn\n",
    "3. Numpy\n",
    "4. Matplotlib"
   ]
  },
  {
   "cell_type": "markdown",
   "id": "aaeb6df7-3017-40a1-9012-1754e36bce76",
   "metadata": {},
   "source": [
    "|Data Science Tools|\n",
    "|------------------|\n",
    "|Git|\n",
    "|Jupyter Notebook|\n",
    "|RStudio|"
   ]
  },
  {
   "cell_type": "markdown",
   "id": "535acd7d-036a-4cef-a248-82fb2f9ceef1",
   "metadata": {},
   "source": [
    "### Below are a few examples of evaluating arithmetic expressions in Python"
   ]
  },
  {
   "cell_type": "code",
   "execution_count": 3,
   "id": "6a27e2cd-8087-41c4-8110-64315e9bedeb",
   "metadata": {},
   "outputs": [
    {
     "data": {
      "text/plain": [
       "17"
      ]
     },
     "execution_count": 3,
     "metadata": {},
     "output_type": "execute_result"
    }
   ],
   "source": [
    "# This is a simple arithmetic expression to multiply and add integers\n",
    "(3*4)+5"
   ]
  },
  {
   "cell_type": "code",
   "execution_count": 4,
   "id": "79af7c14-b68e-4e1b-97ed-3e5f9aaa38a8",
   "metadata": {},
   "outputs": [
    {
     "data": {
      "text/plain": [
       "3.3333333333333335"
      ]
     },
     "execution_count": 4,
     "metadata": {},
     "output_type": "execute_result"
    }
   ],
   "source": [
    "# This will convert 200 minutes to hours by diving by 60\n",
    "200/60"
   ]
  },
  {
   "cell_type": "code",
   "execution_count": null,
   "id": "a8792d0d-28b9-4258-adba-0c029a523c72",
   "metadata": {},
   "outputs": [],
   "source": []
  }
 ],
 "metadata": {
  "kernelspec": {
   "display_name": "Python 3 (ipykernel)",
   "language": "python",
   "name": "python3"
  },
  "language_info": {
   "codemirror_mode": {
    "name": "ipython",
    "version": 3
   },
   "file_extension": ".py",
   "mimetype": "text/x-python",
   "name": "python",
   "nbconvert_exporter": "python",
   "pygments_lexer": "ipython3",
   "version": "3.11.9"
  }
 },
 "nbformat": 4,
 "nbformat_minor": 5
}
